{
 "cells": [
  {
   "cell_type": "code",
   "execution_count": 17,
   "metadata": {},
   "outputs": [
    {
     "name": "stdout",
     "output_type": "stream",
     "text": [
      "/app\n"
     ]
    }
   ],
   "source": [
    "%cd app \n"
   ]
  },
  {
   "cell_type": "code",
   "execution_count": 18,
   "metadata": {},
   "outputs": [
    {
     "name": "stdout",
     "output_type": "stream",
     "text": [
      "LICENSE      dataset\t\t models\t\t\t test_sirs.py\n",
      "README.md    dummy.ipynb\t options\t\t tools\n",
      "__pycache__  engine.py\t\t reflection-removal.zip  train_sirs.py\n",
      "checkpoints  eval_sirs.py\t requirements.txt\t util\n",
      "data\t     mamba-container.sh  scripts.sh\t\t weights\n"
     ]
    }
   ],
   "source": [
    "!ls "
   ]
  },
  {
   "cell_type": "code",
   "execution_count": 19,
   "metadata": {},
   "outputs": [
    {
     "name": "stdout",
     "output_type": "stream",
     "text": [
      "------------ Options -------------\n",
      "base_dir: ./dataset/reflection-removal/\n",
      "batchSize: 1\n",
      "checkpoints_dir: ./checkpoints\n",
      "dataset: sirs_dataset\n",
      "debug: False\n",
      "debug_eval: False\n",
      "display_freq: 100\n",
      "display_id: 0\n",
      "display_port: 8097\n",
      "display_single_pane_ncols: 0\n",
      "display_winsize: 256\n",
      "eval_freq: 1\n",
      "fineSize: 224,224\n",
      "finetune: False\n",
      "fixed_lr: 0\n",
      "gan_type: rasgan\n",
      "gpu_ids: [0]\n",
      "graph: False\n",
      "hyper: False\n",
      "if_align: True\n",
      "inet: dsrnet_l\n",
      "init_lr: 0.01\n",
      "init_type: edsr\n",
      "isTrain: True\n",
      "lambda_gan: 0.01\n",
      "lambda_rec: 0.2\n",
      "lambda_vgg: 0.01\n",
      "loadSize: 224,336,448\n",
      "loss: losses\n",
      "lr: 0.0001\n",
      "max_dataset_size: None\n",
      "model: dsrnet_model_sirs\n",
      "nEpochs: 1\n",
      "nThreads: 8\n",
      "name: dsrnet_l\n",
      "no_flip: False\n",
      "no_html: False\n",
      "no_log: False\n",
      "no_verbose: False\n",
      "print_freq: 100\n",
      "r_pixel_weight: 1.0\n",
      "real20_size: 420\n",
      "resize_or_crop: resize_and_crop\n",
      "resume: False\n",
      "resume_epoch: None\n",
      "save_epoch_freq: 1\n",
      "save_freq: 1\n",
      "seed: 2018\n",
      "select: None\n",
      "selected: None\n",
      "serial_batches: False\n",
      "start_now: False\n",
      "supp_eval: False\n",
      "testr: False\n",
      "unaligned_loss: vgg\n",
      "update_html_freq: 1000\n",
      "vgg_layer: 31\n",
      "wd: 0\n",
      "weight_dir: \n",
      "weight_path: None\n",
      "which_model_D: disc_vgg\n",
      "-------------- End ----------------\n",
      "Namespace(base_dir='./dataset/reflection-removal/', batchSize=1, checkpoints_dir='./checkpoints', dataset='sirs_dataset', debug=False, debug_eval=False, display_freq=100, display_id=0, display_port=8097, display_single_pane_ncols=0, display_winsize=256, eval_freq=1, fineSize='224,224', finetune=False, fixed_lr=0, gan_type='rasgan', gpu_ids=[0], graph=False, hyper=False, if_align=True, inet='dsrnet_l', init_lr=0.01, init_type='edsr', isTrain=True, lambda_gan=0.01, lambda_rec=0.2, lambda_vgg=0.01, loadSize='224,336,448', loss='losses', lr=0.0001, max_dataset_size=None, model='dsrnet_model_sirs', nEpochs=1, nThreads=8, name='dsrnet_l', no_flip=False, no_html=False, no_log=False, no_verbose=False, print_freq=100, r_pixel_weight=1.0, real20_size=420, resize_or_crop='resize_and_crop', resume=False, resume_epoch=None, save_epoch_freq=1, save_freq=1, seed=2018, select=None, selected=None, serial_batches=False, start_now=False, supp_eval=False, testr=False, unaligned_loss='vgg', update_html_freq=1000, vgg_layer=31, wd=0, weight_dir='', weight_path=None, which_model_D='disc_vgg')\n",
      "[i] using a fusion dataset: 7932 [7643, 89, 200] imgs fused with ratio [0.6, 0.2, 0.2]\n",
      "/usr/local/lib/python3.8/dist-packages/torchvision/models/_utils.py:208: UserWarning: The parameter 'pretrained' is deprecated since 0.13 and may be removed in the future, please use 'weights' instead.\n",
      "  warnings.warn(\n",
      "/usr/local/lib/python3.8/dist-packages/torchvision/models/_utils.py:223: UserWarning: Arguments other than a weight enum or `None` for 'weights' are deprecated since 0.13 and may be removed in the future. The current behavior is equivalent to passing `weights=VGG19_Weights.IMAGENET1K_V1`. You can also use `weights=VGG19_Weights.DEFAULT` to get the most up-to-date weights.\n",
      "  warnings.warn(msg)\n",
      "Downloading: \"https://download.pytorch.org/models/vgg19-dcbb9e9d.pth\" to /root/.cache/torch/hub/checkpoints/vgg19-dcbb9e9d.pth\n",
      "100%|█████████████████████████████████████████| 548M/548M [00:05<00:00, 114MB/s]\n",
      "[i] initialization method [edsr]\n",
      "--------------------- Model ---------------------\n",
      "##################### NetG #####################\n",
      "Network Architecture:  DSRNet\n",
      "Total number of parameters: 124602022,118.830Mb\n",
      "The size of receptive field: 338\n",
      "create web directory ./checkpoints/dsrnet_l/web...\n",
      "[i] set learning rate to 0.0001\n",
      "random_seed:  2018\n",
      "\n",
      "Epoch: 0\n",
      "^C\n"
     ]
    }
   ],
   "source": [
    "\n",
    "!python3 train_sirs.py --inet dsrnet_l --model dsrnet_model_sirs --dataset sirs_dataset --loss losses  --name dsrnet_l  --lambda_vgg 0.01 --lambda_rec 0.2 --if_align --seed 2018 --base_dir \"./dataset/reflection-removal/\" --nEpochs 1\n"
   ]
  },
  {
   "cell_type": "code",
   "execution_count": 4,
   "metadata": {},
   "outputs": [
    {
     "name": "stdout",
     "output_type": "stream",
     "text": [
      "NGC-DL-CONTAINER-LICENSE  boot\tetc   lib32   media  proc  sbin  tmp\n",
      "app\t\t\t  data\thome  lib64   mnt    root  srv\t usr\n",
      "bin\t\t\t  dev\tlib   libx32  opt    run   sys\t var\n"
     ]
    }
   ],
   "source": [
    "!ls"
   ]
  },
  {
   "cell_type": "code",
   "execution_count": 22,
   "metadata": {},
   "outputs": [],
   "source": [
    "from mamba_ssm import Mamba\n",
    "import torch\n",
    "\n",
    "\n",
    "# torch.rand()\n",
    "\n",
    "m = Mamba(\n",
    "    # This module uses roughly 3 * expand * d_model^2 parameters\n",
    "            d_model=5, # Model dimension d_model\n",
    "            d_state=16,  # SSM state expansion factor\n",
    "            d_conv=4,    # Local convolution width\n",
    "            expand=2,    # Block expansion factor\n",
    "        )\n"
   ]
  }
 ],
 "metadata": {
  "kernelspec": {
   "display_name": "llama",
   "language": "python",
   "name": "python3"
  },
  "language_info": {
   "codemirror_mode": {
    "name": "ipython",
    "version": 3
   },
   "file_extension": ".py",
   "mimetype": "text/x-python",
   "name": "python",
   "nbconvert_exporter": "python",
   "pygments_lexer": "ipython3",
   "version": "3.8.10"
  }
 },
 "nbformat": 4,
 "nbformat_minor": 2
}
